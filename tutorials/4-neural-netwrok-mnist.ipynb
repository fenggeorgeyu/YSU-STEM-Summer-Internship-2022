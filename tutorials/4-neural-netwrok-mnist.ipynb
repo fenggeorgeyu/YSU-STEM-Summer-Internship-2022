{
 "cells": [
  {
   "cell_type": "markdown",
   "metadata": {},
   "source": [
    "Part of the tutorial are from [https://www.kaggle.com/code/chriscc/mnist-mlp-pytorch/notebook](https://www.kaggle.com/code/chriscc/mnist-mlp-pytorch/notebook)"
   ]
  },
  {
   "cell_type": "markdown",
   "metadata": {},
   "source": [
    "# Import pytorch libraries"
   ]
  },
  {
   "cell_type": "code",
   "execution_count": 160,
   "metadata": {
    "_cell_guid": "b1076dfc-b9ad-4769-8c92-a6c4dae69d19",
    "_uuid": "8f2839f25d086af736a60e9eeb907d3b93b6e0e5"
   },
   "outputs": [],
   "source": [
    "import math\n",
    "import torch\n",
    "from torch import nn, optim, cuda\n",
    "from torch.autograd import Variable\n",
    "from torch.utils.data import DataLoader\n",
    "from torchvision import datasets, transforms\n",
    "\n",
    "import torch.nn.functional as F\n",
    "if cuda.is_available():\n",
    "    # check if GPU is available\n",
    "    print(cuda.get_device_properties(0))\n",
    "\n",
    "# for visualization\n",
    "import matplotlib.pyplot as plt\n",
    "%matplotlib inline"
   ]
  },
  {
   "cell_type": "markdown",
   "metadata": {},
   "source": [
    "# Steps to create a Neural Networks with Pytorch\n",
    "\n",
    "1. Define a Neural Network (forward propagation)\n",
    "2. Define dataset, data loader and transformations\n",
    "3. Define optimizer and criterion\n",
    "4. Train the model (back propagation)\n",
    "5. Evaluate the model\n",
    "6. Make prediction"
   ]
  },
  {
   "cell_type": "markdown",
   "metadata": {},
   "source": [
    "# Step 1: Define a Neural Networks\n",
    "The neural network architectures in Pytorch can be defined in a class which inherits the properties from the base class from **nn** package called Module. This inheritance from the nn.Module class allows us to implement, access, and call a number of methods easily. We can define all the layers inside the constructor of the class, and the forward propagation steps inside the forward function.\n",
    "\n",
    "We will define a simple Multilayer Perceptron with the following architecture:\n",
    "\n",
    "* Input layer\n",
    "```Python\n",
    "nn.Linear(28 * 28, 512)\n",
    "```\n",
    "    * Layer type: nn.Linear(), which refers to a fully connection layer\n",
    "    * Input size: 28*28, corresponding to the size of input data.\n",
    "    * Output size: 512, the number of \"neurons\".\n",
    "    \n",
    "* Hidden layer\n",
    "```\n",
    "nn.Linear(512, 256)\n",
    "```\n",
    "\n",
    "    * Layer type: nn.Linear()\n",
    "    * Input size: 512, output size of the previous layer(input layer).\n",
    "    * Output size: 256, the number of \"neurons\" in this layer.\n",
    "    \n",
    "* Output layer\n",
    "```\n",
    "nn.Linear(256, 10)\n",
    "```\n",
    "\n",
    "    * Layer type: nn.Linear()\n",
    "    * Input size: 256, output size of the previous layer(hidden layer).\n",
    "    * Output size: 10, the number of classes we need to predict.\n",
    "\n",
    "* Activation functions\n",
    "Each linear layer's output needs to go through an activation function to \"activate\" it. We will get started with **F.sigmoid()** but can try F.relu() or others later.\n",
    "\n",
    "The best practice is to name each layer and initialize them in the **__init__()** function as named building blocks and put the building blocks together in the **forward()** function which defines how the data actually flows in the network. In our case, each layer simply takes the output of the previous layer and perform transformations the generate outputs in sequence."
   ]
  },
  {
   "cell_type": "code",
   "execution_count": 4,
   "metadata": {},
   "outputs": [],
   "source": [
    "class simpleNet(nn.Module):\n",
    "    \"\"\"\n",
    "    A simple 3-layer fully connected neural network\n",
    "    \"\"\"\n",
    "    def __init__(self, in_dim, n_hidden_1, n_hidden_2, out_dim):\n",
    "        super(simpleNet, self).__init__()\n",
    "        self.layer1=nn.Linear(in_dim, n_hidden_1)\n",
    "        self.layer2=nn.Linear(n_hidden_1, n_hidden_2)\n",
    "        self.layer3=nn.Linear(n_hidden_2, out_dim)\n",
    "    \n",
    "    def forward(self, x):\n",
    "        x=self.layer1(x)\n",
    "        x=self.layer2(x)\n",
    "        x=self.layer3(x)\n",
    "        return x"
   ]
  },
  {
   "cell_type": "code",
   "execution_count": 5,
   "metadata": {},
   "outputs": [],
   "source": [
    "class ActivationNet(nn.Module):\n",
    "    \"\"\"\n",
    "    NN with activation\n",
    "    \"\"\"\n",
    "    def __init__(self, in_dim, n_hidden_1, n_hidden_2, out_dim):\n",
    "        super(ActivationNet,self).__init__()\n",
    "        #nn.Module(self).__init_()\n",
    "        self.layer1=nn.Sequential(nn.Linear(in_dim, n_hidden_1), nn.ReLU(True))\n",
    "        self.layer2=nn.Sequential(nn.Linear(n_hidden_1, n_hidden_2), nn.ReLU(True))\n",
    "        self.layer3=nn.Sequential(nn.Linear(n_hidden_2, out_dim))\n",
    "        \n",
    "    def forward(self, x):\n",
    "        x=self.layer1(x)\n",
    "        x=self.layer2(x)\n",
    "        x=self.layer3(x)\n",
    "        return x"
   ]
  },
  {
   "cell_type": "code",
   "execution_count": 6,
   "metadata": {},
   "outputs": [],
   "source": [
    "class BatchNet(nn.Module):\n",
    "    \"\"\"\n",
    "    NN with normalization\n",
    "    \"\"\"\n",
    "    def __init__(self, in_dim, n_hidden_1, n_hidden_2, out_dim):\n",
    "        super(BatchNet, self).__init__()\n",
    "        self.layer1=nn.Sequential(nn.Linear(in_dim, n_hidden_1), nn.BatchNorm1d(n_hidden_1), nn.ReLU(True))\n",
    "        self.layer2=nn.Sequential(nn.Linear(n_hidden_1, n_hidden_2), nn.BatchNorm1d(n_hidden_2), nn.ReLU(True))\n",
    "        self.layer3=nn.Sequential(nn.Linear(n_hidden_2, out_dim))\n",
    "    \n",
    "    def forward(self, x):\n",
    "        x=self.layer1(x)\n",
    "        x=self.layer2(x)\n",
    "        x=self.layer3(x)\n",
    "        return x"
   ]
  },
  {
   "cell_type": "code",
   "execution_count": 7,
   "metadata": {},
   "outputs": [],
   "source": [
    "class CNN(nn.Module):\n",
    "    def __init__(self):\n",
    "        super(CNN, self).__init__()\n",
    "        stride=1\n",
    "        self.layer1 = nn.Sequential(\n",
    "            nn.Conv2d(1, 16, kernel_size=3, stride=stride), # b 16, 26, 26\n",
    "            nn.BatchNorm2d(16),\n",
    "            nn.ReLU(inplace=True)\n",
    "        )\n",
    "        self.layer2 = nn.Sequential(\n",
    "            nn.Conv2d(16, 32, kernel_size=3, stride=stride), # b, 32 ,24, 24\n",
    "            nn.BatchNorm2d(32),\n",
    "            nn.ReLU(inplace=True),\n",
    "            nn.MaxPool2d(kernel_size=2, stride=2) # b, 32, 12, 12\n",
    "        )\n",
    "        self.layer3 = nn.Sequential(\n",
    "            nn.Conv2d(32, 64, kernel_size=3, stride=stride), # b, 64, 10, 10\n",
    "            nn.BatchNorm2d(64),\n",
    "            nn.ReLU(inplace=True)\n",
    "        )\n",
    "        self.layer4 = nn.Sequential(\n",
    "            nn.Conv2d(64, 128, kernel_size=3, stride=stride), #b, 128, 8, 8\n",
    "            nn.BatchNorm2d(128),\n",
    "            nn.ReLU(inplace=True),\n",
    "            nn.MaxPool2d(kernel_size=2, stride=2) #b, 128, 4, 4\n",
    "        )\n",
    "        # fully connection layer\n",
    "        self.fc = nn.Sequential(\n",
    "            nn.Linear(128*4*4, 1024),\n",
    "            nn.ReLU(inplace=True),\n",
    "            nn.Linear(1024, 128),\n",
    "            nn.ReLU(inplace=True),\n",
    "            nn.Linear(128, 10)\n",
    "        )\n",
    "    \n",
    "    def forward(self, x):\n",
    "        x=self.layer1(x)\n",
    "        x=self.layer2(x)\n",
    "        x=self.layer3(x)\n",
    "        x=self.layer4(x)\n",
    "        x=x.view(x.size(0),-1)\n",
    "        x=self.fc(x)\n",
    "        return x"
   ]
  },
  {
   "cell_type": "markdown",
   "metadata": {},
   "source": [
    "# Step 2: Define dataset, data loader and transformation\n",
    "\n",
    "<!-- PyTorch gives use the freedom to pretty much do anything with the Dataset class so long as you override two of the subclass functions:\n",
    "* the __len__ function which returns the size of the dataset, and\n",
    "* the __getitem__ function which returns a sample from the dataset given an index.\n",
    "\n",
    "However, in our case we can simply construct a TensorDataset with two items: the feature data and the target where the feature data is the matrix of pixel 1 - pixel 784 and the target is the digit of the image. -->\n",
    "\n",
    "\n",
    "While the Dataset class is a nice way of containing data systematically, it seems that in a training loop, we will need to index or slice the dataset's samples list. This is no better than what we would do for a typical list or NumPy matrix. Rather than going down that route, PyTorch supplies another utility function called the DataLoader which acts as a data feeder for a Dataset object.\n",
    "\n",
    "\n",
    "In order to construct the data loader we will need to provide two parameters: **batch_size** which indicates how many samples we want to use to train  the model in a batch, and **shuflle**, suggesting if we want to shuffle the data before sending it to the network. \n",
    "\n",
    "Typically we would want to set batch_size as $2^n$ e.g. 128, 256, 512, and set `shuffle` as `True` for traning data and `False` for validation and test data (you can take a moment to think why?)\n",
    "\n"
   ]
  },
  {
   "cell_type": "markdown",
   "metadata": {},
   "source": [
    "### Download Datasets"
   ]
  },
  {
   "cell_type": "code",
   "execution_count": 59,
   "metadata": {},
   "outputs": [],
   "source": [
    "from sklearn.model_selection import train_test_split\n",
    "\n",
    "# preparing transforming functions\n",
    "data_tf=transforms.Compose([transforms.ToTensor(), transforms.Normalize([0.5],[0.5])])\n",
    "# for rgb use transforms.Normalize([a,b,c],[d,e,f])\n",
    "# download datasets into the data folder in upper level\n",
    "train_dataset = datasets.MNIST(root='../data', train=True, transform=data_tf, download=True)\n",
    "# dataset = datasets.MNIST(root='../data', train=True, transform=data_tf, download=True)\n",
    "# x_train, x_val, y_train, y_val = train_test_split(\n",
    "#     train.values[:,1:], train.values[:,0], test_size=0.2)\n",
    "\n",
    "test_dataset = datasets.MNIST(root='../data', train=False, transform=data_tf, download=True)\n"
   ]
  },
  {
   "cell_type": "markdown",
   "metadata": {},
   "source": [
    "### Load Datasets"
   ]
  },
  {
   "cell_type": "code",
   "execution_count": 162,
   "metadata": {},
   "outputs": [],
   "source": [
    "# data loader\n",
    "batch_size=64\n",
    "train_loader = DataLoader(train_dataset, batch_size=batch_size, shuffle=True)\n",
    "test_loader = DataLoader(test_dataset, batch_size=batch_size, shuffle=False)"
   ]
  },
  {
   "cell_type": "markdown",
   "metadata": {},
   "source": [
    "# Display sample pictures from the dataset"
   ]
  },
  {
   "cell_type": "code",
   "execution_count": 166,
   "metadata": {
    "scrolled": false
   },
   "outputs": [
    {
     "data": {
      "image/png": "[encoded data removed]",
      "text/plain": [
       "<Figure size 576x576 with 64 Axes>"
      ]
     },
     "metadata": {},
     "output_type": "display_data"
    }
   ],
   "source": [
    "data=iter(train_loader)\n",
    "samples,labels=data.next()\n",
    "\n",
    "row_num=8 # if batch_size=64, plot matrix as 8x8\n",
    "column_num=int(batch_size/row_num)\n",
    "\n",
    "\n",
    "fig, axes = plt.subplots(row_num, column_num, figsize=(8, 8),\n",
    "                         subplot_kw={'xticks':[], 'yticks':[]},\n",
    "                         gridspec_kw=dict(hspace=0.1, wspace=0.1))\n",
    "\n",
    "for i, ax in enumerate(axes.flat):\n",
    "    ax.imshow(samples[i][0], cmap='Greys', interpolation='nearest')\n",
    "    ax.text(0.1, 0.1, labels[i].numpy(), transform=ax.transAxes, color='green')\n",
    "\n"
   ]
  },
  {
   "cell_type": "markdown",
   "metadata": {},
   "source": [
    "# Step 3: Define optimizer and criterion\n",
    "\n",
    "Optimizer is used to perform the gradient descent process. Here we will use SGD( Stochastic Gradient Descent). The tricky part is how to set the right size of learning rate which could have a huge impact on the final result. For now let's simply use 0.1 as the starting point but later we will revisit the options and strategies of learning rate selection.\n",
    "\n",
    "Criterion will be used to calculate the cost (or loss) so we can use the cost to do back propagation and update the weights we want to train. In our case, we will use nn.CrossEntropyLoss() since we are working on a multiclassfication problem."
   ]
  },
  {
   "cell_type": "code",
   "execution_count": 24,
   "metadata": {},
   "outputs": [],
   "source": [
    "# define model\n",
    "#model = simpleNet(28*28, 300, 100, 10)\n",
    "model = BatchNet(28*28, 300, 100, 10)\n",
    "\n",
    "num_epochs=20\n",
    "if cuda.is_available(): \n",
    "    #if GPU is available\n",
    "    model=model.cuda()\n",
    "\n",
    "#---criterion is the cost or error function---\n",
    "criterion=nn.CrossEntropyLoss()\n",
    "\n",
    "#---optimizer for training the neural network---\n",
    "# learning rate is step size when training the neural network\n",
    "# larger step size trains quicker but may \"miss\" the optimal solution\n",
    "learning_rate=1e-1\n",
    "# use Adam optimizer\n",
    "# you may try other optimizers such as SGD and Adagrad to see if accuracy improves\n",
    "optimizer=optim.Adam(model.parameters(), lr=learning_rate)\n",
    "#optimizer=optim.SGD(model.parameters(), lr=learning_rate)\n",
    "#optimizer=optim.Adagrad(model.parameters(), lr=learning_rate)"
   ]
  },
  {
   "cell_type": "markdown",
   "metadata": {},
   "source": [
    "# Step 4 train the model (back propagation)\n",
    "\n",
    "Training the model is an iterative process which contains many epoches. For each epoch we will repeatly load batches of data, perform forward propagation, calculate cost, perform back propagation using the optimizer.\n",
    "\n",
    "**Epoch** is how many times one wants to train the neural network. Each epoch will load and train all the training data through the neural network. After each epoch, the cost (error) function tends to get lower errors. Larger number of epoch means more rounds of training and may further lower the error of training but will take longer time. However, you may notice in the experiment that a very large number of epoch may not be necessary if the training error is \"acceptable\" after a lower number of rounds. "
   ]
  },
  {
   "cell_type": "code",
   "execution_count": 27,
   "metadata": {},
   "outputs": [
    {
     "name": "stdout",
     "output_type": "stream",
     "text": [
      "Epoch 2/20, eval_loss=0.3523562252521515\n",
      "Epoch 4/20, eval_loss=0.3270307779312134\n",
      "Epoch 6/20, eval_loss=0.3505436182022095\n",
      "Epoch 8/20, eval_loss=0.2893078625202179\n",
      "Epoch 10/20, eval_loss=0.34159567952156067\n",
      "Epoch 12/20, eval_loss=0.2945680320262909\n",
      "Epoch 14/20, eval_loss=0.31438949704170227\n",
      "Epoch 16/20, eval_loss=0.3226495087146759\n",
      "Epoch 18/20, eval_loss=0.30969861149787903\n",
      "Epoch 20/20, eval_loss=0.2742578387260437\n",
      "CPU times: user 1min 3s, sys: 50.7 s, total: 1min 54s\n",
      "Wall time: 1min 12s\n"
     ]
    }
   ],
   "source": [
    "%%time\n",
    "\n",
    "## set number of epochs\n",
    "num_epochs=20\n",
    "\n",
    "##########training############\n",
    "for epoch in range(num_epochs):\n",
    "    train_loss=0\n",
    "    for data in train_loader:\n",
    "        img, label = data\n",
    "        img = img.view(img.size(0),-1)\n",
    "        if cuda.is_available(): # if GPU is available\n",
    "            img=Variable(img).cuda()\n",
    "            label=Variable(label).cuda()\n",
    "        else:\n",
    "            img=Variable(img)\n",
    "            label=Variable(label)\n",
    "        # forward training\n",
    "        out = model(img)\n",
    "        loss = criterion(out, label)\n",
    "        train_loss += loss.data*label.size(0) \n",
    "        # backward propagation\n",
    "        optimizer.zero_grad()\n",
    "        loss.backward()\n",
    "        optimizer.step()\n",
    "    if (epoch+1)%(num_epochs/10) ==0:\n",
    "        print(f'Epoch {epoch+1}/{num_epochs}, eval_loss={train_loss/(len(test_dataset))}')\n",
    "\n"
   ]
  },
  {
   "cell_type": "markdown",
   "metadata": {},
   "source": [
    "# Step 5: Evaluate the model\n",
    "\n",
    "We will use the trained model to make predictions on the validation dataset and compare the predictions against the actual targets. Dataloader will be used to iterate the validation dataset as well."
   ]
  },
  {
   "cell_type": "code",
   "execution_count": 41,
   "metadata": {},
   "outputs": [
    {
     "name": "stdout",
     "output_type": "stream",
     "text": [
      "Test Loss: 0.14463278651237488, Acc: 0.9775000214576721\n"
     ]
    }
   ],
   "source": [
    "##########testing##########\n",
    "eval_loss=0\n",
    "eval_acc=0\n",
    "#use evaluation model\n",
    "model.eval()\n",
    "for data in test_loader:\n",
    "    img, label = data\n",
    "    img = img.view(img.size(0),-1)\n",
    "    if cuda.is_available(): #if GPU is available\n",
    "        img=Variable(img).cuda()\n",
    "        label=Variable(label).cuda()\n",
    "    else:\n",
    "        img=Variable(img)\n",
    "        label=Variable(label)\n",
    "    out = model(img)\n",
    "    loss = criterion(out, label)\n",
    "    eval_loss += loss.data*label.size(0)\n",
    "    _, pred = torch.max(out, 1) #???\n",
    "    num_correct = (pred==label).sum()\n",
    "    eval_acc += num_correct.data\n",
    "    #print('pred: {}, label: {}, num_correct: {}'.format(pred, label, num_correct))\n",
    "print(f'Test Loss: {eval_loss/(len(test_dataset))}, Acc: {eval_acc*1.0/(len(test_dataset))}')\n"
   ]
  },
  {
   "cell_type": "markdown",
   "metadata": {},
   "source": [
    "# Step 6: make prediction\n",
    "\n",
    "This step is similar to the validation step except that we are not comparing the predictions as there's no ground truth of target to compare with."
   ]
  },
  {
   "cell_type": "code",
   "execution_count": 169,
   "metadata": {},
   "outputs": [],
   "source": [
    "model.eval() # prep model for evaluation\n",
    "\n",
    "preds = []\n",
    "\n",
    "for data in test_loader:\n",
    "    # forward pass: compute predicted outputs by passing inputs to the model\n",
    "    img, label = data\n",
    "    img = img.view(img.size(0),-1)\n",
    "    output = model(img)\n",
    "    # calculate the loss\n",
    "    _, pred = torch.max(output, 1)\n",
    "    preds.extend(pred.tolist())\n",
    "    # compare predictions to true label\n",
    "\n"
   ]
  },
  {
   "cell_type": "code",
   "execution_count": 44,
   "metadata": {
    "scrolled": true
   },
   "outputs": [
    {
     "ename": "NameError",
     "evalue": "name 'submission' is not defined",
     "output_type": "error",
     "traceback": [
      "\u001b[0;31m---------------------------------------------------------------------------\u001b[0m",
      "\u001b[0;31mNameError\u001b[0m                                 Traceback (most recent call last)",
      "Input \u001b[0;32mIn [44]\u001b[0m, in \u001b[0;36m<cell line: 1>\u001b[0;34m()\u001b[0m\n\u001b[0;32m----> 1\u001b[0m \u001b[43msubmission\u001b[49m[\u001b[38;5;124m'\u001b[39m\u001b[38;5;124mLabel\u001b[39m\u001b[38;5;124m'\u001b[39m] \u001b[38;5;241m=\u001b[39m preds\n\u001b[1;32m      2\u001b[0m submission\u001b[38;5;241m.\u001b[39mto_csv(\u001b[38;5;124m'\u001b[39m\u001b[38;5;124msubmission.csv\u001b[39m\u001b[38;5;124m'\u001b[39m, index\u001b[38;5;241m=\u001b[39m\u001b[38;5;28;01mFalse\u001b[39;00m)\n",
      "\u001b[0;31mNameError\u001b[0m: name 'submission' is not defined"
     ]
    }
   ],
   "source": [
    "\n",
    "\n",
    "#submission['Label'] = preds\n",
    "#submission.to_csv('submission.csv', index=False)"
   ]
  },
  {
   "cell_type": "markdown",
   "metadata": {},
   "source": [
    "# Assignments:\n",
    "\n",
    "1. Can you implment the following functions for model training, evaluation and prediction so we can reuse them when we need to test different things afterwards without having to replicate the codes every time.\n",
    "\n",
    "```python\n",
    "\n",
    "def train_model(nn_model, train_loader, optimizer, criterion, n_epoch):\n",
    "    # YOUR IMPLEMENTATION\n",
    "    return nn_model\n",
    "\n",
    "def eval_model(nn_model, val_loader):\n",
    "    # YOUR IMPLEMENTATION\n",
    "    return calculated_accuracy\n",
    "\n",
    "\n",
    "def predict(nn_model, test_loader):\n",
    "    # YOUR IMPLEMENTATION\n",
    "    return predictions\n",
    "\n",
    "```\n",
    "\n",
    "\n",
    "2. F.sigmoid() was used as the activation function for the MLP model we implemented. Can you try other activation functions such as F.relu() and F.tanh()? You may want to refer to the [PyTorch Functional](https://pytorch.org/docs/stable/nn.functional.html) for more details. Use the train_model(), eval_model() functions you implmented so you don't have to repeat the same codes.\n",
    "\n",
    "3. Can you add a dropout layer between input and the hidden layer, and another one between the hidden layer and the output layer?\n",
    "\n",
    "4. Try to add/ remove hiden layers, as well as different number of neurons and report your validation results.\n",
    "\n",
    "5. Try different learning rate (0.0001, 0.001, 0.01, 0.1). What is your observation?\n",
    "\n",
    "6. Try different values for batch_size(64, 128, 256, 512).\n",
    "\n",
    "7. Try different values for n_epochs.\n",
    "\n",
    "8. What can you think of if we want to improve the current model?\n",
    "\n"
   ]
  },
  {
   "cell_type": "code",
   "execution_count": null,
   "metadata": {},
   "outputs": [],
   "source": []
  }
 ],
 "metadata": {
  "kernelspec": {
   "display_name": "Python 3 (ipykernel)",
   "language": "python",
   "name": "python3"
  },
  "language_info": {
   "codemirror_mode": {
    "name": "ipython",
    "version": 3
   },
   "file_extension": ".py",
   "mimetype": "text/x-python",
   "name": "python",
   "nbconvert_exporter": "python",
   "pygments_lexer": "ipython3",
   "version": "3.9.13"
  }
 },
 "nbformat": 4,
 "nbformat_minor": 4
}
